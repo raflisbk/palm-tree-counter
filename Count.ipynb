{
  "cells": [
    {
      "cell_type": "markdown",
      "metadata": {
        "id": "6HJAd_N34agb"
      },
      "source": [
        "# Mohamad Rafli Agung Subekti\n",
        "## Techincal Test AI Engineer Sawit Pro\n",
        "raflisbk@gmail.com\n",
        "081330583086"
      ]
    },
    {
      "cell_type": "markdown",
      "metadata": {
        "id": "CtJFYGO64jPk"
      },
      "source": [
        "## Install Library"
      ]
    },
    {
      "cell_type": "code",
      "execution_count": 90,
      "metadata": {
        "id": "8iaOJim0uk1a"
      },
      "outputs": [],
      "source": [
        "import cv2\n",
        "import os\n",
        "import numpy as np\n",
        "from IPython.display import Image, display\n",
        "from ultralytics import YOLO"
      ]
    },
    {
      "cell_type": "markdown",
      "metadata": {
        "id": "MkE0b2_t5riA"
      },
      "source": [
        "## Implementasi Model pada Gambar"
      ]
    },
    {
      "cell_type": "code",
      "execution_count": 91,
      "metadata": {},
      "outputs": [],
      "source": [
        "import os\n",
        "import cv2\n",
        "import numpy as np\n",
        "from ultralytics import YOLO\n",
        "from IPython.display import Image, display\n",
        "\n",
        "def count_sawit(image_path, conf=0.25):\n",
        "    model_path = \"count_model.pt\"  \n",
        "    output_dir = \"./image/output/\"  \n",
        "\n",
        "    os.makedirs(output_dir, exist_ok=True)\n",
        "\n",
        "    base_output_name = \"count\"\n",
        "    output_path = f\"{output_dir}{base_output_name}.jpg\"\n",
        "    counter = 1\n",
        "    while os.path.exists(output_path):\n",
        "        output_path = f\"{output_dir}{base_output_name}_{counter}.jpg\"\n",
        "        counter += 1\n",
        "\n",
        "    model = YOLO(model_path)\n",
        "    \n",
        "    image = cv2.imread(image_path)\n",
        "\n",
        "    height, width = image.shape[:2]\n",
        "    max_dim = max(height, width)\n",
        "    scale = 4800 / max_dim\n",
        "    new_width = int(width * scale)\n",
        "    new_height = int(height * scale)\n",
        "    resized_image = cv2.resize(image, (new_width, new_height))\n",
        "\n",
        "    results = model.predict(source=resized_image, conf=conf)\n",
        "    result = results[0]\n",
        "\n",
        "    for idx, box in enumerate(result.boxes):\n",
        "        x1, y1, x2, y2 = map(int, box.xyxy[0])\n",
        "        label = str(idx + 1)\n",
        "        text_color = (0, 255, 255)\n",
        "        box_color = (255, 0, 0)\n",
        "        thickness = 5\n",
        "        cv2.rectangle(resized_image, (x1, y1), (x2, y2), box_color, thickness)\n",
        "        font_scale = 2.5\n",
        "        text_thickness = 5\n",
        "        position = (x1, y1 - 10)\n",
        "        cv2.putText(resized_image, label, position, cv2.FONT_HERSHEY_SIMPLEX, font_scale, text_color, text_thickness)\n",
        "\n",
        "    detected_objects = len(results[0].boxes)\n",
        "    height, width, _ = resized_image.shape\n",
        "    padding = 300  \n",
        "    new_image = np.ones((height + padding, width, 3), dtype=np.uint8) * 255\n",
        "    new_image[:height, :] = resized_image\n",
        "\n",
        "    text = f\"Jumlah objek yang terdeteksi: {detected_objects}\"\n",
        "    font_scale = 5\n",
        "    text_thickness = 5\n",
        "    text_color = (0, 0, 0)\n",
        "    text_size = cv2.getTextSize(text, cv2.FONT_HERSHEY_SIMPLEX, font_scale, text_thickness)[0]\n",
        "    text_x = (new_image.shape[1] - text_size[0]) // 2\n",
        "    text_y = height + (padding + text_size[1]) // 2\n",
        "    cv2.putText(new_image, text, (text_x, text_y), cv2.FONT_HERSHEY_SIMPLEX, font_scale, text_color, text_thickness)\n",
        "\n",
        "    cv2.imwrite(output_path, new_image)\n",
        "\n",
        "    display(Image(filename=output_path, width=600))\n",
        "\n",
        "    return output_path\n"
      ]
    },
    {
      "cell_type": "code",
      "execution_count": null,
      "metadata": {},
      "outputs": [],
      "source": [
        "count_sawit('./image/tes1.jpg')"
      ]
    },
    {
      "cell_type": "code",
      "execution_count": null,
      "metadata": {},
      "outputs": [],
      "source": [
        "count_sawit('./image/input.jpg')"
      ]
    }
  ],
  "metadata": {
    "colab": {
      "provenance": []
    },
    "kernelspec": {
      "display_name": "sawit",
      "language": "python",
      "name": "python3"
    },
    "language_info": {
      "codemirror_mode": {
        "name": "ipython",
        "version": 3
      },
      "file_extension": ".py",
      "mimetype": "text/x-python",
      "name": "python",
      "nbconvert_exporter": "python",
      "pygments_lexer": "ipython3",
      "version": "3.11.11"
    }
  },
  "nbformat": 4,
  "nbformat_minor": 0
}
