{
  "cells": [
    {
      "cell_type": "markdown",
      "metadata": {
        "id": "TAeiJV1Hh5Y7"
      },
      "source": [
        "# Mohamad Rafli Agung Subekti\n",
        "## Technical Test AI Engineer Sawit Pro\n",
        "raflisbk@gmail.com\n",
        "081330583086\n"
      ]
    },
    {
      "cell_type": "markdown",
      "metadata": {
        "id": "7gjg_4WliwJ9"
      },
      "source": [
        "## Import library"
      ]
    },
    {
      "cell_type": "code",
      "execution_count": null,
      "metadata": {
        "colab": {
          "base_uri": "https://localhost:8080/"
        },
        "id": "JfiOOe_ui9rL",
        "outputId": "a856eac6-0f9d-4f10-86c0-4eefcf27a78d"
      },
      "outputs": [],
      "source": [
        "import ultralytics\n",
        "import glob\n",
        "import shutil\n",
        "from ultralytics import YOLO\n",
        "from IPython.display import Image, display\n",
        "from IPython import display\n",
        "display.clear_output()\n",
        "ultralytics.checks()"
      ]
    },
    {
      "cell_type": "code",
      "execution_count": null,
      "metadata": {},
      "outputs": [],
      "source": [
        "HOME = os.getcwd()\n",
        "print(HOME)"
      ]
    },
    {
      "cell_type": "markdown",
      "metadata": {
        "id": "mEwcw3qJjcBQ"
      },
      "source": [
        "## Train Model YOLOv8"
      ]
    },
    {
      "cell_type": "code",
      "execution_count": null,
      "metadata": {
        "colab": {
          "base_uri": "https://localhost:8080/"
        },
        "id": "LFNjJfUUjfSX",
        "outputId": "6a13138e-b3ee-4d59-9735-5e3b33b00a08"
      },
      "outputs": [],
      "source": [
        "dataset = r'D:\\Subek\\CV\\Sawit_Pro\\Count\\datasets\\data.yaml' ##pastikan menyesuaikan direktori, sesuai direktori anda\n",
        "!yolo task=detect mode=train model=yolov8s.pt data={dataset} epochs=1 imgsz=640 plots=True"
      ]
    },
    {
      "cell_type": "markdown",
      "metadata": {
        "id": "A2Keie85jjqo"
      },
      "source": [
        "### Visualisasi Metriks Pelatiham Model YOLOv8"
      ]
    },
    {
      "cell_type": "code",
      "execution_count": null,
      "metadata": {
        "colab": {
          "base_uri": "https://localhost:8080/",
          "height": 334
        },
        "id": "A-urTWUkhRmn",
        "outputId": "8a767a5f-799e-4602-fd14-f9762e73aa44"
      },
      "outputs": [],
      "source": [
        "%cd {HOME}\n",
        "Image(filename=f'{HOME}/runs/detect/train/results.png', width=600)"
      ]
    },
    {
      "cell_type": "markdown",
      "metadata": {
        "id": "a6LnL6nHj3GZ"
      },
      "source": [
        "## Validasi Model YOLOv8"
      ]
    },
    {
      "cell_type": "code",
      "execution_count": null,
      "metadata": {
        "colab": {
          "base_uri": "https://localhost:8080/"
        },
        "id": "d33yUmJ-j8J1",
        "outputId": "3f4c0507-b36c-4246-d906-7ea51bd2f785"
      },
      "outputs": [],
      "source": [
        "%cd {HOME}\n",
        "!yolo task=detect mode=val model={HOME}/runs/detect/train/weights/best.pt data={dataset}"
      ]
    },
    {
      "cell_type": "markdown",
      "metadata": {
        "id": "3-PDbOP5kLIe"
      },
      "source": [
        "## Test Model YOLOv8 yang telah dilatih sebelumnya menggunakan data test"
      ]
    },
    {
      "cell_type": "code",
      "execution_count": null,
      "metadata": {
        "colab": {
          "base_uri": "https://localhost:8080/"
        },
        "id": "ZQOi-Tw-kQyE",
        "outputId": "41b43c5a-46e8-4b96-8087-1a809e1e12b1"
      },
      "outputs": [],
      "source": [
        "datates = r'D:\\Subek\\CV\\Sawit_Pro\\Count\\datasets\\test\\images' ##pastikan menyesuaikan direktori, sesuai direktori anda\n",
        "%cd {HOME}\n",
        "!yolo task=detect mode=predict model={HOME}/runs/detect/train/weights/best.pt conf=0.25 source={datates} save=True show_labels=False"
      ]
    },
    {
      "cell_type": "markdown",
      "metadata": {
        "id": "HumzqP_Ckf5t"
      },
      "source": [
        "### Hasil Deteksi model YOLOv8 pada data test"
      ]
    },
    {
      "cell_type": "code",
      "execution_count": null,
      "metadata": {
        "colab": {
          "base_uri": "https://localhost:8080/",
          "height": 1000
        },
        "id": "_dgwY6hYkahV",
        "outputId": "a559e091-91b9-4275-ab28-db4c9e5b1de3"
      },
      "outputs": [],
      "source": [
        "base_path = r'D:\\Subek\\CV\\Sawit_Pro\\Count\\runs\\detect' ##pastikan menyesuaikan direktori, sesuai direktori anda\n",
        "\n",
        "from IPython.display import Image, display\n",
        "subfolders = [os.path.join(base_path, d) for d in os.listdir(base_path)\n",
        "              if os.path.isdir(os.path.join(base_path, d)) and d.startswith('predict')]\n",
        "\n",
        "latest_folder = max(subfolders, key=os.path.getmtime)\n",
        "\n",
        "image_paths = glob.glob(f'{latest_folder}/*.jpg')[:3]\n",
        "\n",
        "for image_path in image_paths:\n",
        "    display(Image(filename=image_path, width=600))\n",
        "    print(\"\\n\")"
      ]
    }
  ],
  "metadata": {
    "accelerator": "GPU",
    "colab": {
      "gpuType": "T4",
      "provenance": []
    },
    "kernelspec": {
      "display_name": "sawit",
      "language": "python",
      "name": "python3"
    },
    "language_info": {
      "codemirror_mode": {
        "name": "ipython",
        "version": 3
      },
      "file_extension": ".py",
      "mimetype": "text/x-python",
      "name": "python",
      "nbconvert_exporter": "python",
      "pygments_lexer": "ipython3",
      "version": "3.11.11"
    }
  },
  "nbformat": 4,
  "nbformat_minor": 0
}
